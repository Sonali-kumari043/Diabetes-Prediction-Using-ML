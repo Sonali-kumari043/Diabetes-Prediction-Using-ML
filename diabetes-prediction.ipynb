{
 "cells": [
  {
   "cell_type": "markdown",
   "id": "db393c25",
   "metadata": {
    "papermill": {
     "duration": 0.007643,
     "end_time": "2024-11-19T13:01:08.979130",
     "exception": false,
     "start_time": "2024-11-19T13:01:08.971487",
     "status": "completed"
    },
    "tags": []
   },
   "source": [
    "# Diabetes Data: Machine Learning Project\n",
    "Todo: \n",
    "1. Go through the data\n",
    "2. Data Cleaning\n",
    "3. Data Prepocessing\n",
    "4. Dividing Data\n",
    "5. Finding out the best suited ML algorithm\n",
    "6. Training Data\n",
    "7. Testing Data\n",
    "8. Finding the accuracy and many different parameters\n",
    "9. Making the model"
   ]
  },
  {
   "cell_type": "code",
   "execution_count": 1,
   "id": "6eadbd98",
   "metadata": {
    "execution": {
     "iopub.execute_input": "2024-11-19T13:01:08.994414Z",
     "iopub.status.busy": "2024-11-19T13:01:08.993987Z",
     "iopub.status.idle": "2024-11-19T13:01:11.622764Z",
     "shell.execute_reply": "2024-11-19T13:01:11.621497Z"
    },
    "papermill": {
     "duration": 2.639401,
     "end_time": "2024-11-19T13:01:11.625462",
     "exception": false,
     "start_time": "2024-11-19T13:01:08.986061",
     "status": "completed"
    },
    "tags": []
   },
   "outputs": [],
   "source": [
    "import pandas as pd\n",
    "import numpy as np\n",
    "from sklearn.preprocessing import StandardScaler\n",
    "from sklearn.model_selection import train_test_split\n",
    "from sklearn import svm\n",
    "from sklearn.metrics import accuracy_score"
   ]
  },
  {
   "cell_type": "markdown",
   "id": "ccca8b44",
   "metadata": {
    "papermill": {
     "duration": 0.006661,
     "end_time": "2024-11-19T13:01:11.639230",
     "exception": false,
     "start_time": "2024-11-19T13:01:11.632569",
     "status": "completed"
    },
    "tags": []
   },
   "source": [
    "## Data Collection and Analysis\n",
    "Todo:\n",
    "1. Loading the data\n",
    "2. Get info and discription of data- 768 rows, 9 columns, 0-Non Diabetic, 1- Diabetic\n",
    "3. check for any null value - No null values"
   ]
  },
  {
   "cell_type": "code",
   "execution_count": 2,
   "id": "abbb6ea3",
   "metadata": {
    "execution": {
     "iopub.execute_input": "2024-11-19T13:01:11.655635Z",
     "iopub.status.busy": "2024-11-19T13:01:11.655123Z",
     "iopub.status.idle": "2024-11-19T13:01:11.677326Z",
     "shell.execute_reply": "2024-11-19T13:01:11.676197Z"
    },
    "papermill": {
     "duration": 0.032768,
     "end_time": "2024-11-19T13:01:11.679789",
     "exception": false,
     "start_time": "2024-11-19T13:01:11.647021",
     "status": "completed"
    },
    "tags": []
   },
   "outputs": [],
   "source": [
    "dia_df = pd.read_csv(\"/kaggle/input/diabetes-dataset/diabetes.csv\")"
   ]
  },
  {
   "cell_type": "code",
   "execution_count": 3,
   "id": "a27c7b46",
   "metadata": {
    "execution": {
     "iopub.execute_input": "2024-11-19T13:01:11.695431Z",
     "iopub.status.busy": "2024-11-19T13:01:11.695017Z",
     "iopub.status.idle": "2024-11-19T13:01:11.722518Z",
     "shell.execute_reply": "2024-11-19T13:01:11.721410Z"
    },
    "papermill": {
     "duration": 0.037918,
     "end_time": "2024-11-19T13:01:11.724713",
     "exception": false,
     "start_time": "2024-11-19T13:01:11.686795",
     "status": "completed"
    },
    "tags": []
   },
   "outputs": [
    {
     "data": {
      "text/html": [
       "<div>\n",
       "<style scoped>\n",
       "    .dataframe tbody tr th:only-of-type {\n",
       "        vertical-align: middle;\n",
       "    }\n",
       "\n",
       "    .dataframe tbody tr th {\n",
       "        vertical-align: top;\n",
       "    }\n",
       "\n",
       "    .dataframe thead th {\n",
       "        text-align: right;\n",
       "    }\n",
       "</style>\n",
       "<table border=\"1\" class=\"dataframe\">\n",
       "  <thead>\n",
       "    <tr style=\"text-align: right;\">\n",
       "      <th></th>\n",
       "      <th>Pregnancies</th>\n",
       "      <th>Glucose</th>\n",
       "      <th>BloodPressure</th>\n",
       "      <th>SkinThickness</th>\n",
       "      <th>Insulin</th>\n",
       "      <th>BMI</th>\n",
       "      <th>DiabetesPedigreeFunction</th>\n",
       "      <th>Age</th>\n",
       "      <th>Outcome</th>\n",
       "    </tr>\n",
       "  </thead>\n",
       "  <tbody>\n",
       "    <tr>\n",
       "      <th>0</th>\n",
       "      <td>6</td>\n",
       "      <td>148</td>\n",
       "      <td>72</td>\n",
       "      <td>35</td>\n",
       "      <td>0</td>\n",
       "      <td>33.6</td>\n",
       "      <td>0.627</td>\n",
       "      <td>50</td>\n",
       "      <td>1</td>\n",
       "    </tr>\n",
       "    <tr>\n",
       "      <th>1</th>\n",
       "      <td>1</td>\n",
       "      <td>85</td>\n",
       "      <td>66</td>\n",
       "      <td>29</td>\n",
       "      <td>0</td>\n",
       "      <td>26.6</td>\n",
       "      <td>0.351</td>\n",
       "      <td>31</td>\n",
       "      <td>0</td>\n",
       "    </tr>\n",
       "    <tr>\n",
       "      <th>2</th>\n",
       "      <td>8</td>\n",
       "      <td>183</td>\n",
       "      <td>64</td>\n",
       "      <td>0</td>\n",
       "      <td>0</td>\n",
       "      <td>23.3</td>\n",
       "      <td>0.672</td>\n",
       "      <td>32</td>\n",
       "      <td>1</td>\n",
       "    </tr>\n",
       "    <tr>\n",
       "      <th>3</th>\n",
       "      <td>1</td>\n",
       "      <td>89</td>\n",
       "      <td>66</td>\n",
       "      <td>23</td>\n",
       "      <td>94</td>\n",
       "      <td>28.1</td>\n",
       "      <td>0.167</td>\n",
       "      <td>21</td>\n",
       "      <td>0</td>\n",
       "    </tr>\n",
       "    <tr>\n",
       "      <th>4</th>\n",
       "      <td>0</td>\n",
       "      <td>137</td>\n",
       "      <td>40</td>\n",
       "      <td>35</td>\n",
       "      <td>168</td>\n",
       "      <td>43.1</td>\n",
       "      <td>2.288</td>\n",
       "      <td>33</td>\n",
       "      <td>1</td>\n",
       "    </tr>\n",
       "    <tr>\n",
       "      <th>...</th>\n",
       "      <td>...</td>\n",
       "      <td>...</td>\n",
       "      <td>...</td>\n",
       "      <td>...</td>\n",
       "      <td>...</td>\n",
       "      <td>...</td>\n",
       "      <td>...</td>\n",
       "      <td>...</td>\n",
       "      <td>...</td>\n",
       "    </tr>\n",
       "    <tr>\n",
       "      <th>763</th>\n",
       "      <td>10</td>\n",
       "      <td>101</td>\n",
       "      <td>76</td>\n",
       "      <td>48</td>\n",
       "      <td>180</td>\n",
       "      <td>32.9</td>\n",
       "      <td>0.171</td>\n",
       "      <td>63</td>\n",
       "      <td>0</td>\n",
       "    </tr>\n",
       "    <tr>\n",
       "      <th>764</th>\n",
       "      <td>2</td>\n",
       "      <td>122</td>\n",
       "      <td>70</td>\n",
       "      <td>27</td>\n",
       "      <td>0</td>\n",
       "      <td>36.8</td>\n",
       "      <td>0.340</td>\n",
       "      <td>27</td>\n",
       "      <td>0</td>\n",
       "    </tr>\n",
       "    <tr>\n",
       "      <th>765</th>\n",
       "      <td>5</td>\n",
       "      <td>121</td>\n",
       "      <td>72</td>\n",
       "      <td>23</td>\n",
       "      <td>112</td>\n",
       "      <td>26.2</td>\n",
       "      <td>0.245</td>\n",
       "      <td>30</td>\n",
       "      <td>0</td>\n",
       "    </tr>\n",
       "    <tr>\n",
       "      <th>766</th>\n",
       "      <td>1</td>\n",
       "      <td>126</td>\n",
       "      <td>60</td>\n",
       "      <td>0</td>\n",
       "      <td>0</td>\n",
       "      <td>30.1</td>\n",
       "      <td>0.349</td>\n",
       "      <td>47</td>\n",
       "      <td>1</td>\n",
       "    </tr>\n",
       "    <tr>\n",
       "      <th>767</th>\n",
       "      <td>1</td>\n",
       "      <td>93</td>\n",
       "      <td>70</td>\n",
       "      <td>31</td>\n",
       "      <td>0</td>\n",
       "      <td>30.4</td>\n",
       "      <td>0.315</td>\n",
       "      <td>23</td>\n",
       "      <td>0</td>\n",
       "    </tr>\n",
       "  </tbody>\n",
       "</table>\n",
       "<p>768 rows × 9 columns</p>\n",
       "</div>"
      ],
      "text/plain": [
       "     Pregnancies  Glucose  BloodPressure  SkinThickness  Insulin   BMI  \\\n",
       "0              6      148             72             35        0  33.6   \n",
       "1              1       85             66             29        0  26.6   \n",
       "2              8      183             64              0        0  23.3   \n",
       "3              1       89             66             23       94  28.1   \n",
       "4              0      137             40             35      168  43.1   \n",
       "..           ...      ...            ...            ...      ...   ...   \n",
       "763           10      101             76             48      180  32.9   \n",
       "764            2      122             70             27        0  36.8   \n",
       "765            5      121             72             23      112  26.2   \n",
       "766            1      126             60              0        0  30.1   \n",
       "767            1       93             70             31        0  30.4   \n",
       "\n",
       "     DiabetesPedigreeFunction  Age  Outcome  \n",
       "0                       0.627   50        1  \n",
       "1                       0.351   31        0  \n",
       "2                       0.672   32        1  \n",
       "3                       0.167   21        0  \n",
       "4                       2.288   33        1  \n",
       "..                        ...  ...      ...  \n",
       "763                     0.171   63        0  \n",
       "764                     0.340   27        0  \n",
       "765                     0.245   30        0  \n",
       "766                     0.349   47        1  \n",
       "767                     0.315   23        0  \n",
       "\n",
       "[768 rows x 9 columns]"
      ]
     },
     "execution_count": 3,
     "metadata": {},
     "output_type": "execute_result"
    }
   ],
   "source": [
    "dia_df"
   ]
  },
  {
   "cell_type": "code",
   "execution_count": 4,
   "id": "19b3935a",
   "metadata": {
    "execution": {
     "iopub.execute_input": "2024-11-19T13:01:11.741252Z",
     "iopub.status.busy": "2024-11-19T13:01:11.740841Z",
     "iopub.status.idle": "2024-11-19T13:01:11.747588Z",
     "shell.execute_reply": "2024-11-19T13:01:11.746516Z"
    },
    "papermill": {
     "duration": 0.01759,
     "end_time": "2024-11-19T13:01:11.749718",
     "exception": false,
     "start_time": "2024-11-19T13:01:11.732128",
     "status": "completed"
    },
    "tags": []
   },
   "outputs": [
    {
     "data": {
      "text/plain": [
       "(768, 9)"
      ]
     },
     "execution_count": 4,
     "metadata": {},
     "output_type": "execute_result"
    }
   ],
   "source": [
    "dia_df.shape"
   ]
  },
  {
   "cell_type": "code",
   "execution_count": 5,
   "id": "b99457f3",
   "metadata": {
    "execution": {
     "iopub.execute_input": "2024-11-19T13:01:11.766143Z",
     "iopub.status.busy": "2024-11-19T13:01:11.765711Z",
     "iopub.status.idle": "2024-11-19T13:01:11.792191Z",
     "shell.execute_reply": "2024-11-19T13:01:11.790989Z"
    },
    "papermill": {
     "duration": 0.037381,
     "end_time": "2024-11-19T13:01:11.794560",
     "exception": false,
     "start_time": "2024-11-19T13:01:11.757179",
     "status": "completed"
    },
    "tags": []
   },
   "outputs": [
    {
     "name": "stdout",
     "output_type": "stream",
     "text": [
      "<class 'pandas.core.frame.DataFrame'>\n",
      "RangeIndex: 768 entries, 0 to 767\n",
      "Data columns (total 9 columns):\n",
      " #   Column                    Non-Null Count  Dtype  \n",
      "---  ------                    --------------  -----  \n",
      " 0   Pregnancies               768 non-null    int64  \n",
      " 1   Glucose                   768 non-null    int64  \n",
      " 2   BloodPressure             768 non-null    int64  \n",
      " 3   SkinThickness             768 non-null    int64  \n",
      " 4   Insulin                   768 non-null    int64  \n",
      " 5   BMI                       768 non-null    float64\n",
      " 6   DiabetesPedigreeFunction  768 non-null    float64\n",
      " 7   Age                       768 non-null    int64  \n",
      " 8   Outcome                   768 non-null    int64  \n",
      "dtypes: float64(2), int64(7)\n",
      "memory usage: 54.1 KB\n"
     ]
    }
   ],
   "source": [
    "dia_df.info()"
   ]
  },
  {
   "cell_type": "code",
   "execution_count": 6,
   "id": "7cfb8601",
   "metadata": {
    "execution": {
     "iopub.execute_input": "2024-11-19T13:01:11.811377Z",
     "iopub.status.busy": "2024-11-19T13:01:11.810951Z",
     "iopub.status.idle": "2024-11-19T13:01:11.846572Z",
     "shell.execute_reply": "2024-11-19T13:01:11.845334Z"
    },
    "papermill": {
     "duration": 0.047124,
     "end_time": "2024-11-19T13:01:11.849270",
     "exception": false,
     "start_time": "2024-11-19T13:01:11.802146",
     "status": "completed"
    },
    "tags": []
   },
   "outputs": [
    {
     "data": {
      "text/html": [
       "<div>\n",
       "<style scoped>\n",
       "    .dataframe tbody tr th:only-of-type {\n",
       "        vertical-align: middle;\n",
       "    }\n",
       "\n",
       "    .dataframe tbody tr th {\n",
       "        vertical-align: top;\n",
       "    }\n",
       "\n",
       "    .dataframe thead th {\n",
       "        text-align: right;\n",
       "    }\n",
       "</style>\n",
       "<table border=\"1\" class=\"dataframe\">\n",
       "  <thead>\n",
       "    <tr style=\"text-align: right;\">\n",
       "      <th></th>\n",
       "      <th>Pregnancies</th>\n",
       "      <th>Glucose</th>\n",
       "      <th>BloodPressure</th>\n",
       "      <th>SkinThickness</th>\n",
       "      <th>Insulin</th>\n",
       "      <th>BMI</th>\n",
       "      <th>DiabetesPedigreeFunction</th>\n",
       "      <th>Age</th>\n",
       "      <th>Outcome</th>\n",
       "    </tr>\n",
       "  </thead>\n",
       "  <tbody>\n",
       "    <tr>\n",
       "      <th>count</th>\n",
       "      <td>768.000000</td>\n",
       "      <td>768.000000</td>\n",
       "      <td>768.000000</td>\n",
       "      <td>768.000000</td>\n",
       "      <td>768.000000</td>\n",
       "      <td>768.000000</td>\n",
       "      <td>768.000000</td>\n",
       "      <td>768.000000</td>\n",
       "      <td>768.000000</td>\n",
       "    </tr>\n",
       "    <tr>\n",
       "      <th>mean</th>\n",
       "      <td>3.845052</td>\n",
       "      <td>120.894531</td>\n",
       "      <td>69.105469</td>\n",
       "      <td>20.536458</td>\n",
       "      <td>79.799479</td>\n",
       "      <td>31.992578</td>\n",
       "      <td>0.471876</td>\n",
       "      <td>33.240885</td>\n",
       "      <td>0.348958</td>\n",
       "    </tr>\n",
       "    <tr>\n",
       "      <th>std</th>\n",
       "      <td>3.369578</td>\n",
       "      <td>31.972618</td>\n",
       "      <td>19.355807</td>\n",
       "      <td>15.952218</td>\n",
       "      <td>115.244002</td>\n",
       "      <td>7.884160</td>\n",
       "      <td>0.331329</td>\n",
       "      <td>11.760232</td>\n",
       "      <td>0.476951</td>\n",
       "    </tr>\n",
       "    <tr>\n",
       "      <th>min</th>\n",
       "      <td>0.000000</td>\n",
       "      <td>0.000000</td>\n",
       "      <td>0.000000</td>\n",
       "      <td>0.000000</td>\n",
       "      <td>0.000000</td>\n",
       "      <td>0.000000</td>\n",
       "      <td>0.078000</td>\n",
       "      <td>21.000000</td>\n",
       "      <td>0.000000</td>\n",
       "    </tr>\n",
       "    <tr>\n",
       "      <th>25%</th>\n",
       "      <td>1.000000</td>\n",
       "      <td>99.000000</td>\n",
       "      <td>62.000000</td>\n",
       "      <td>0.000000</td>\n",
       "      <td>0.000000</td>\n",
       "      <td>27.300000</td>\n",
       "      <td>0.243750</td>\n",
       "      <td>24.000000</td>\n",
       "      <td>0.000000</td>\n",
       "    </tr>\n",
       "    <tr>\n",
       "      <th>50%</th>\n",
       "      <td>3.000000</td>\n",
       "      <td>117.000000</td>\n",
       "      <td>72.000000</td>\n",
       "      <td>23.000000</td>\n",
       "      <td>30.500000</td>\n",
       "      <td>32.000000</td>\n",
       "      <td>0.372500</td>\n",
       "      <td>29.000000</td>\n",
       "      <td>0.000000</td>\n",
       "    </tr>\n",
       "    <tr>\n",
       "      <th>75%</th>\n",
       "      <td>6.000000</td>\n",
       "      <td>140.250000</td>\n",
       "      <td>80.000000</td>\n",
       "      <td>32.000000</td>\n",
       "      <td>127.250000</td>\n",
       "      <td>36.600000</td>\n",
       "      <td>0.626250</td>\n",
       "      <td>41.000000</td>\n",
       "      <td>1.000000</td>\n",
       "    </tr>\n",
       "    <tr>\n",
       "      <th>max</th>\n",
       "      <td>17.000000</td>\n",
       "      <td>199.000000</td>\n",
       "      <td>122.000000</td>\n",
       "      <td>99.000000</td>\n",
       "      <td>846.000000</td>\n",
       "      <td>67.100000</td>\n",
       "      <td>2.420000</td>\n",
       "      <td>81.000000</td>\n",
       "      <td>1.000000</td>\n",
       "    </tr>\n",
       "  </tbody>\n",
       "</table>\n",
       "</div>"
      ],
      "text/plain": [
       "       Pregnancies     Glucose  BloodPressure  SkinThickness     Insulin  \\\n",
       "count   768.000000  768.000000     768.000000     768.000000  768.000000   \n",
       "mean      3.845052  120.894531      69.105469      20.536458   79.799479   \n",
       "std       3.369578   31.972618      19.355807      15.952218  115.244002   \n",
       "min       0.000000    0.000000       0.000000       0.000000    0.000000   \n",
       "25%       1.000000   99.000000      62.000000       0.000000    0.000000   \n",
       "50%       3.000000  117.000000      72.000000      23.000000   30.500000   \n",
       "75%       6.000000  140.250000      80.000000      32.000000  127.250000   \n",
       "max      17.000000  199.000000     122.000000      99.000000  846.000000   \n",
       "\n",
       "              BMI  DiabetesPedigreeFunction         Age     Outcome  \n",
       "count  768.000000                768.000000  768.000000  768.000000  \n",
       "mean    31.992578                  0.471876   33.240885    0.348958  \n",
       "std      7.884160                  0.331329   11.760232    0.476951  \n",
       "min      0.000000                  0.078000   21.000000    0.000000  \n",
       "25%     27.300000                  0.243750   24.000000    0.000000  \n",
       "50%     32.000000                  0.372500   29.000000    0.000000  \n",
       "75%     36.600000                  0.626250   41.000000    1.000000  \n",
       "max     67.100000                  2.420000   81.000000    1.000000  "
      ]
     },
     "execution_count": 6,
     "metadata": {},
     "output_type": "execute_result"
    }
   ],
   "source": [
    "dia_df.describe()"
   ]
  },
  {
   "cell_type": "code",
   "execution_count": 7,
   "id": "68e83bfd",
   "metadata": {
    "execution": {
     "iopub.execute_input": "2024-11-19T13:01:11.867107Z",
     "iopub.status.busy": "2024-11-19T13:01:11.866143Z",
     "iopub.status.idle": "2024-11-19T13:01:11.876081Z",
     "shell.execute_reply": "2024-11-19T13:01:11.875017Z"
    },
    "papermill": {
     "duration": 0.020974,
     "end_time": "2024-11-19T13:01:11.878258",
     "exception": false,
     "start_time": "2024-11-19T13:01:11.857284",
     "status": "completed"
    },
    "tags": []
   },
   "outputs": [
    {
     "data": {
      "text/plain": [
       "Outcome\n",
       "0    500\n",
       "1    268\n",
       "Name: count, dtype: int64"
      ]
     },
     "execution_count": 7,
     "metadata": {},
     "output_type": "execute_result"
    }
   ],
   "source": [
    "dia_df[\"Outcome\"].value_counts()"
   ]
  },
  {
   "cell_type": "code",
   "execution_count": 8,
   "id": "59d8e86d",
   "metadata": {
    "execution": {
     "iopub.execute_input": "2024-11-19T13:01:11.897825Z",
     "iopub.status.busy": "2024-11-19T13:01:11.897427Z",
     "iopub.status.idle": "2024-11-19T13:01:11.915645Z",
     "shell.execute_reply": "2024-11-19T13:01:11.914421Z"
    },
    "papermill": {
     "duration": 0.032647,
     "end_time": "2024-11-19T13:01:11.918565",
     "exception": false,
     "start_time": "2024-11-19T13:01:11.885918",
     "status": "completed"
    },
    "tags": []
   },
   "outputs": [
    {
     "data": {
      "text/html": [
       "<div>\n",
       "<style scoped>\n",
       "    .dataframe tbody tr th:only-of-type {\n",
       "        vertical-align: middle;\n",
       "    }\n",
       "\n",
       "    .dataframe tbody tr th {\n",
       "        vertical-align: top;\n",
       "    }\n",
       "\n",
       "    .dataframe thead th {\n",
       "        text-align: right;\n",
       "    }\n",
       "</style>\n",
       "<table border=\"1\" class=\"dataframe\">\n",
       "  <thead>\n",
       "    <tr style=\"text-align: right;\">\n",
       "      <th></th>\n",
       "      <th>Pregnancies</th>\n",
       "      <th>Glucose</th>\n",
       "      <th>BloodPressure</th>\n",
       "      <th>SkinThickness</th>\n",
       "      <th>Insulin</th>\n",
       "      <th>BMI</th>\n",
       "      <th>DiabetesPedigreeFunction</th>\n",
       "      <th>Age</th>\n",
       "    </tr>\n",
       "    <tr>\n",
       "      <th>Outcome</th>\n",
       "      <th></th>\n",
       "      <th></th>\n",
       "      <th></th>\n",
       "      <th></th>\n",
       "      <th></th>\n",
       "      <th></th>\n",
       "      <th></th>\n",
       "      <th></th>\n",
       "    </tr>\n",
       "  </thead>\n",
       "  <tbody>\n",
       "    <tr>\n",
       "      <th>0</th>\n",
       "      <td>3.298000</td>\n",
       "      <td>109.980000</td>\n",
       "      <td>68.184000</td>\n",
       "      <td>19.664000</td>\n",
       "      <td>68.792000</td>\n",
       "      <td>30.304200</td>\n",
       "      <td>0.429734</td>\n",
       "      <td>31.190000</td>\n",
       "    </tr>\n",
       "    <tr>\n",
       "      <th>1</th>\n",
       "      <td>4.865672</td>\n",
       "      <td>141.257463</td>\n",
       "      <td>70.824627</td>\n",
       "      <td>22.164179</td>\n",
       "      <td>100.335821</td>\n",
       "      <td>35.142537</td>\n",
       "      <td>0.550500</td>\n",
       "      <td>37.067164</td>\n",
       "    </tr>\n",
       "  </tbody>\n",
       "</table>\n",
       "</div>"
      ],
      "text/plain": [
       "         Pregnancies     Glucose  BloodPressure  SkinThickness     Insulin  \\\n",
       "Outcome                                                                      \n",
       "0           3.298000  109.980000      68.184000      19.664000   68.792000   \n",
       "1           4.865672  141.257463      70.824627      22.164179  100.335821   \n",
       "\n",
       "               BMI  DiabetesPedigreeFunction        Age  \n",
       "Outcome                                                  \n",
       "0        30.304200                  0.429734  31.190000  \n",
       "1        35.142537                  0.550500  37.067164  "
      ]
     },
     "execution_count": 8,
     "metadata": {},
     "output_type": "execute_result"
    }
   ],
   "source": [
    "dia_df.groupby(\"Outcome\").mean()"
   ]
  },
  {
   "cell_type": "markdown",
   "id": "e4e8cf7d",
   "metadata": {
    "papermill": {
     "duration": 0.007669,
     "end_time": "2024-11-19T13:01:11.935523",
     "exception": false,
     "start_time": "2024-11-19T13:01:11.927854",
     "status": "completed"
    },
    "tags": []
   },
   "source": [
    "## Separating Data and Label"
   ]
  },
  {
   "cell_type": "code",
   "execution_count": 9,
   "id": "dbc1322a",
   "metadata": {
    "execution": {
     "iopub.execute_input": "2024-11-19T13:01:11.953263Z",
     "iopub.status.busy": "2024-11-19T13:01:11.952799Z",
     "iopub.status.idle": "2024-11-19T13:01:11.959385Z",
     "shell.execute_reply": "2024-11-19T13:01:11.958138Z"
    },
    "papermill": {
     "duration": 0.018097,
     "end_time": "2024-11-19T13:01:11.961665",
     "exception": false,
     "start_time": "2024-11-19T13:01:11.943568",
     "status": "completed"
    },
    "tags": []
   },
   "outputs": [],
   "source": [
    "X= dia_df.drop(columns = \"Outcome\", axis = 1)\n",
    "Y= dia_df[\"Outcome\"]"
   ]
  },
  {
   "cell_type": "code",
   "execution_count": 10,
   "id": "75220f02",
   "metadata": {
    "execution": {
     "iopub.execute_input": "2024-11-19T13:01:11.979186Z",
     "iopub.status.busy": "2024-11-19T13:01:11.978735Z",
     "iopub.status.idle": "2024-11-19T13:01:11.994589Z",
     "shell.execute_reply": "2024-11-19T13:01:11.993368Z"
    },
    "papermill": {
     "duration": 0.027009,
     "end_time": "2024-11-19T13:01:11.996670",
     "exception": false,
     "start_time": "2024-11-19T13:01:11.969661",
     "status": "completed"
    },
    "tags": []
   },
   "outputs": [
    {
     "data": {
      "text/html": [
       "<div>\n",
       "<style scoped>\n",
       "    .dataframe tbody tr th:only-of-type {\n",
       "        vertical-align: middle;\n",
       "    }\n",
       "\n",
       "    .dataframe tbody tr th {\n",
       "        vertical-align: top;\n",
       "    }\n",
       "\n",
       "    .dataframe thead th {\n",
       "        text-align: right;\n",
       "    }\n",
       "</style>\n",
       "<table border=\"1\" class=\"dataframe\">\n",
       "  <thead>\n",
       "    <tr style=\"text-align: right;\">\n",
       "      <th></th>\n",
       "      <th>Pregnancies</th>\n",
       "      <th>Glucose</th>\n",
       "      <th>BloodPressure</th>\n",
       "      <th>SkinThickness</th>\n",
       "      <th>Insulin</th>\n",
       "      <th>BMI</th>\n",
       "      <th>DiabetesPedigreeFunction</th>\n",
       "      <th>Age</th>\n",
       "    </tr>\n",
       "  </thead>\n",
       "  <tbody>\n",
       "    <tr>\n",
       "      <th>0</th>\n",
       "      <td>6</td>\n",
       "      <td>148</td>\n",
       "      <td>72</td>\n",
       "      <td>35</td>\n",
       "      <td>0</td>\n",
       "      <td>33.6</td>\n",
       "      <td>0.627</td>\n",
       "      <td>50</td>\n",
       "    </tr>\n",
       "    <tr>\n",
       "      <th>1</th>\n",
       "      <td>1</td>\n",
       "      <td>85</td>\n",
       "      <td>66</td>\n",
       "      <td>29</td>\n",
       "      <td>0</td>\n",
       "      <td>26.6</td>\n",
       "      <td>0.351</td>\n",
       "      <td>31</td>\n",
       "    </tr>\n",
       "    <tr>\n",
       "      <th>2</th>\n",
       "      <td>8</td>\n",
       "      <td>183</td>\n",
       "      <td>64</td>\n",
       "      <td>0</td>\n",
       "      <td>0</td>\n",
       "      <td>23.3</td>\n",
       "      <td>0.672</td>\n",
       "      <td>32</td>\n",
       "    </tr>\n",
       "    <tr>\n",
       "      <th>3</th>\n",
       "      <td>1</td>\n",
       "      <td>89</td>\n",
       "      <td>66</td>\n",
       "      <td>23</td>\n",
       "      <td>94</td>\n",
       "      <td>28.1</td>\n",
       "      <td>0.167</td>\n",
       "      <td>21</td>\n",
       "    </tr>\n",
       "    <tr>\n",
       "      <th>4</th>\n",
       "      <td>0</td>\n",
       "      <td>137</td>\n",
       "      <td>40</td>\n",
       "      <td>35</td>\n",
       "      <td>168</td>\n",
       "      <td>43.1</td>\n",
       "      <td>2.288</td>\n",
       "      <td>33</td>\n",
       "    </tr>\n",
       "    <tr>\n",
       "      <th>...</th>\n",
       "      <td>...</td>\n",
       "      <td>...</td>\n",
       "      <td>...</td>\n",
       "      <td>...</td>\n",
       "      <td>...</td>\n",
       "      <td>...</td>\n",
       "      <td>...</td>\n",
       "      <td>...</td>\n",
       "    </tr>\n",
       "    <tr>\n",
       "      <th>763</th>\n",
       "      <td>10</td>\n",
       "      <td>101</td>\n",
       "      <td>76</td>\n",
       "      <td>48</td>\n",
       "      <td>180</td>\n",
       "      <td>32.9</td>\n",
       "      <td>0.171</td>\n",
       "      <td>63</td>\n",
       "    </tr>\n",
       "    <tr>\n",
       "      <th>764</th>\n",
       "      <td>2</td>\n",
       "      <td>122</td>\n",
       "      <td>70</td>\n",
       "      <td>27</td>\n",
       "      <td>0</td>\n",
       "      <td>36.8</td>\n",
       "      <td>0.340</td>\n",
       "      <td>27</td>\n",
       "    </tr>\n",
       "    <tr>\n",
       "      <th>765</th>\n",
       "      <td>5</td>\n",
       "      <td>121</td>\n",
       "      <td>72</td>\n",
       "      <td>23</td>\n",
       "      <td>112</td>\n",
       "      <td>26.2</td>\n",
       "      <td>0.245</td>\n",
       "      <td>30</td>\n",
       "    </tr>\n",
       "    <tr>\n",
       "      <th>766</th>\n",
       "      <td>1</td>\n",
       "      <td>126</td>\n",
       "      <td>60</td>\n",
       "      <td>0</td>\n",
       "      <td>0</td>\n",
       "      <td>30.1</td>\n",
       "      <td>0.349</td>\n",
       "      <td>47</td>\n",
       "    </tr>\n",
       "    <tr>\n",
       "      <th>767</th>\n",
       "      <td>1</td>\n",
       "      <td>93</td>\n",
       "      <td>70</td>\n",
       "      <td>31</td>\n",
       "      <td>0</td>\n",
       "      <td>30.4</td>\n",
       "      <td>0.315</td>\n",
       "      <td>23</td>\n",
       "    </tr>\n",
       "  </tbody>\n",
       "</table>\n",
       "<p>768 rows × 8 columns</p>\n",
       "</div>"
      ],
      "text/plain": [
       "     Pregnancies  Glucose  BloodPressure  SkinThickness  Insulin   BMI  \\\n",
       "0              6      148             72             35        0  33.6   \n",
       "1              1       85             66             29        0  26.6   \n",
       "2              8      183             64              0        0  23.3   \n",
       "3              1       89             66             23       94  28.1   \n",
       "4              0      137             40             35      168  43.1   \n",
       "..           ...      ...            ...            ...      ...   ...   \n",
       "763           10      101             76             48      180  32.9   \n",
       "764            2      122             70             27        0  36.8   \n",
       "765            5      121             72             23      112  26.2   \n",
       "766            1      126             60              0        0  30.1   \n",
       "767            1       93             70             31        0  30.4   \n",
       "\n",
       "     DiabetesPedigreeFunction  Age  \n",
       "0                       0.627   50  \n",
       "1                       0.351   31  \n",
       "2                       0.672   32  \n",
       "3                       0.167   21  \n",
       "4                       2.288   33  \n",
       "..                        ...  ...  \n",
       "763                     0.171   63  \n",
       "764                     0.340   27  \n",
       "765                     0.245   30  \n",
       "766                     0.349   47  \n",
       "767                     0.315   23  \n",
       "\n",
       "[768 rows x 8 columns]"
      ]
     },
     "execution_count": 10,
     "metadata": {},
     "output_type": "execute_result"
    }
   ],
   "source": [
    "X"
   ]
  },
  {
   "cell_type": "code",
   "execution_count": 11,
   "id": "229ac2ca",
   "metadata": {
    "execution": {
     "iopub.execute_input": "2024-11-19T13:01:12.015851Z",
     "iopub.status.busy": "2024-11-19T13:01:12.015447Z",
     "iopub.status.idle": "2024-11-19T13:01:12.024559Z",
     "shell.execute_reply": "2024-11-19T13:01:12.023409Z"
    },
    "papermill": {
     "duration": 0.021321,
     "end_time": "2024-11-19T13:01:12.026871",
     "exception": false,
     "start_time": "2024-11-19T13:01:12.005550",
     "status": "completed"
    },
    "tags": []
   },
   "outputs": [
    {
     "data": {
      "text/plain": [
       "0      1\n",
       "1      0\n",
       "2      1\n",
       "3      0\n",
       "4      1\n",
       "      ..\n",
       "763    0\n",
       "764    0\n",
       "765    0\n",
       "766    1\n",
       "767    0\n",
       "Name: Outcome, Length: 768, dtype: int64"
      ]
     },
     "execution_count": 11,
     "metadata": {},
     "output_type": "execute_result"
    }
   ],
   "source": [
    "Y"
   ]
  },
  {
   "cell_type": "markdown",
   "id": "aa722ecc",
   "metadata": {
    "papermill": {
     "duration": 0.008717,
     "end_time": "2024-11-19T13:01:12.044548",
     "exception": false,
     "start_time": "2024-11-19T13:01:12.035831",
     "status": "completed"
    },
    "tags": []
   },
   "source": [
    "## Data Standardization"
   ]
  },
  {
   "cell_type": "code",
   "execution_count": 12,
   "id": "f0f3d74a",
   "metadata": {
    "execution": {
     "iopub.execute_input": "2024-11-19T13:01:12.063863Z",
     "iopub.status.busy": "2024-11-19T13:01:12.063442Z",
     "iopub.status.idle": "2024-11-19T13:01:12.068448Z",
     "shell.execute_reply": "2024-11-19T13:01:12.067292Z"
    },
    "papermill": {
     "duration": 0.017143,
     "end_time": "2024-11-19T13:01:12.070849",
     "exception": false,
     "start_time": "2024-11-19T13:01:12.053706",
     "status": "completed"
    },
    "tags": []
   },
   "outputs": [],
   "source": [
    "scaler= StandardScaler()"
   ]
  },
  {
   "cell_type": "code",
   "execution_count": 13,
   "id": "0ccadbeb",
   "metadata": {
    "execution": {
     "iopub.execute_input": "2024-11-19T13:01:12.090559Z",
     "iopub.status.busy": "2024-11-19T13:01:12.090141Z",
     "iopub.status.idle": "2024-11-19T13:01:12.104568Z",
     "shell.execute_reply": "2024-11-19T13:01:12.103370Z"
    },
    "papermill": {
     "duration": 0.02758,
     "end_time": "2024-11-19T13:01:12.106828",
     "exception": false,
     "start_time": "2024-11-19T13:01:12.079248",
     "status": "completed"
    },
    "tags": []
   },
   "outputs": [
    {
     "data": {
      "text/html": [
       "<style>#sk-container-id-1 {color: black;background-color: white;}#sk-container-id-1 pre{padding: 0;}#sk-container-id-1 div.sk-toggleable {background-color: white;}#sk-container-id-1 label.sk-toggleable__label {cursor: pointer;display: block;width: 100%;margin-bottom: 0;padding: 0.3em;box-sizing: border-box;text-align: center;}#sk-container-id-1 label.sk-toggleable__label-arrow:before {content: \"▸\";float: left;margin-right: 0.25em;color: #696969;}#sk-container-id-1 label.sk-toggleable__label-arrow:hover:before {color: black;}#sk-container-id-1 div.sk-estimator:hover label.sk-toggleable__label-arrow:before {color: black;}#sk-container-id-1 div.sk-toggleable__content {max-height: 0;max-width: 0;overflow: hidden;text-align: left;background-color: #f0f8ff;}#sk-container-id-1 div.sk-toggleable__content pre {margin: 0.2em;color: black;border-radius: 0.25em;background-color: #f0f8ff;}#sk-container-id-1 input.sk-toggleable__control:checked~div.sk-toggleable__content {max-height: 200px;max-width: 100%;overflow: auto;}#sk-container-id-1 input.sk-toggleable__control:checked~label.sk-toggleable__label-arrow:before {content: \"▾\";}#sk-container-id-1 div.sk-estimator input.sk-toggleable__control:checked~label.sk-toggleable__label {background-color: #d4ebff;}#sk-container-id-1 div.sk-label input.sk-toggleable__control:checked~label.sk-toggleable__label {background-color: #d4ebff;}#sk-container-id-1 input.sk-hidden--visually {border: 0;clip: rect(1px 1px 1px 1px);clip: rect(1px, 1px, 1px, 1px);height: 1px;margin: -1px;overflow: hidden;padding: 0;position: absolute;width: 1px;}#sk-container-id-1 div.sk-estimator {font-family: monospace;background-color: #f0f8ff;border: 1px dotted black;border-radius: 0.25em;box-sizing: border-box;margin-bottom: 0.5em;}#sk-container-id-1 div.sk-estimator:hover {background-color: #d4ebff;}#sk-container-id-1 div.sk-parallel-item::after {content: \"\";width: 100%;border-bottom: 1px solid gray;flex-grow: 1;}#sk-container-id-1 div.sk-label:hover label.sk-toggleable__label {background-color: #d4ebff;}#sk-container-id-1 div.sk-serial::before {content: \"\";position: absolute;border-left: 1px solid gray;box-sizing: border-box;top: 0;bottom: 0;left: 50%;z-index: 0;}#sk-container-id-1 div.sk-serial {display: flex;flex-direction: column;align-items: center;background-color: white;padding-right: 0.2em;padding-left: 0.2em;position: relative;}#sk-container-id-1 div.sk-item {position: relative;z-index: 1;}#sk-container-id-1 div.sk-parallel {display: flex;align-items: stretch;justify-content: center;background-color: white;position: relative;}#sk-container-id-1 div.sk-item::before, #sk-container-id-1 div.sk-parallel-item::before {content: \"\";position: absolute;border-left: 1px solid gray;box-sizing: border-box;top: 0;bottom: 0;left: 50%;z-index: -1;}#sk-container-id-1 div.sk-parallel-item {display: flex;flex-direction: column;z-index: 1;position: relative;background-color: white;}#sk-container-id-1 div.sk-parallel-item:first-child::after {align-self: flex-end;width: 50%;}#sk-container-id-1 div.sk-parallel-item:last-child::after {align-self: flex-start;width: 50%;}#sk-container-id-1 div.sk-parallel-item:only-child::after {width: 0;}#sk-container-id-1 div.sk-dashed-wrapped {border: 1px dashed gray;margin: 0 0.4em 0.5em 0.4em;box-sizing: border-box;padding-bottom: 0.4em;background-color: white;}#sk-container-id-1 div.sk-label label {font-family: monospace;font-weight: bold;display: inline-block;line-height: 1.2em;}#sk-container-id-1 div.sk-label-container {text-align: center;}#sk-container-id-1 div.sk-container {/* jupyter's `normalize.less` sets `[hidden] { display: none; }` but bootstrap.min.css set `[hidden] { display: none !important; }` so we also need the `!important` here to be able to override the default hidden behavior on the sphinx rendered scikit-learn.org. See: https://github.com/scikit-learn/scikit-learn/issues/21755 */display: inline-block !important;position: relative;}#sk-container-id-1 div.sk-text-repr-fallback {display: none;}</style><div id=\"sk-container-id-1\" class=\"sk-top-container\"><div class=\"sk-text-repr-fallback\"><pre>StandardScaler()</pre><b>In a Jupyter environment, please rerun this cell to show the HTML representation or trust the notebook. <br />On GitHub, the HTML representation is unable to render, please try loading this page with nbviewer.org.</b></div><div class=\"sk-container\" hidden><div class=\"sk-item\"><div class=\"sk-estimator sk-toggleable\"><input class=\"sk-toggleable__control sk-hidden--visually\" id=\"sk-estimator-id-1\" type=\"checkbox\" checked><label for=\"sk-estimator-id-1\" class=\"sk-toggleable__label sk-toggleable__label-arrow\">StandardScaler</label><div class=\"sk-toggleable__content\"><pre>StandardScaler()</pre></div></div></div></div></div>"
      ],
      "text/plain": [
       "StandardScaler()"
      ]
     },
     "execution_count": 13,
     "metadata": {},
     "output_type": "execute_result"
    }
   ],
   "source": [
    "scaler.fit(X)"
   ]
  },
  {
   "cell_type": "code",
   "execution_count": 14,
   "id": "639803b8",
   "metadata": {
    "execution": {
     "iopub.execute_input": "2024-11-19T13:01:12.126862Z",
     "iopub.status.busy": "2024-11-19T13:01:12.126472Z",
     "iopub.status.idle": "2024-11-19T13:01:12.133651Z",
     "shell.execute_reply": "2024-11-19T13:01:12.132463Z"
    },
    "papermill": {
     "duration": 0.019668,
     "end_time": "2024-11-19T13:01:12.135743",
     "exception": false,
     "start_time": "2024-11-19T13:01:12.116075",
     "status": "completed"
    },
    "tags": []
   },
   "outputs": [],
   "source": [
    "Standardized_data = scaler.transform(X)"
   ]
  },
  {
   "cell_type": "code",
   "execution_count": 15,
   "id": "98ea5093",
   "metadata": {
    "execution": {
     "iopub.execute_input": "2024-11-19T13:01:12.154327Z",
     "iopub.status.busy": "2024-11-19T13:01:12.153916Z",
     "iopub.status.idle": "2024-11-19T13:01:12.161834Z",
     "shell.execute_reply": "2024-11-19T13:01:12.160610Z"
    },
    "papermill": {
     "duration": 0.019956,
     "end_time": "2024-11-19T13:01:12.164294",
     "exception": false,
     "start_time": "2024-11-19T13:01:12.144338",
     "status": "completed"
    },
    "tags": []
   },
   "outputs": [
    {
     "data": {
      "text/plain": [
       "array([[ 0.63994726,  0.84832379,  0.14964075, ...,  0.20401277,\n",
       "         0.46849198,  1.4259954 ],\n",
       "       [-0.84488505, -1.12339636, -0.16054575, ..., -0.68442195,\n",
       "        -0.36506078, -0.19067191],\n",
       "       [ 1.23388019,  1.94372388, -0.26394125, ..., -1.10325546,\n",
       "         0.60439732, -0.10558415],\n",
       "       ...,\n",
       "       [ 0.3429808 ,  0.00330087,  0.14964075, ..., -0.73518964,\n",
       "        -0.68519336, -0.27575966],\n",
       "       [-0.84488505,  0.1597866 , -0.47073225, ..., -0.24020459,\n",
       "        -0.37110101,  1.17073215],\n",
       "       [-0.84488505, -0.8730192 ,  0.04624525, ..., -0.20212881,\n",
       "        -0.47378505, -0.87137393]])"
      ]
     },
     "execution_count": 15,
     "metadata": {},
     "output_type": "execute_result"
    }
   ],
   "source": [
    "Standardized_data"
   ]
  },
  {
   "cell_type": "code",
   "execution_count": 16,
   "id": "fd196c28",
   "metadata": {
    "execution": {
     "iopub.execute_input": "2024-11-19T13:01:12.185137Z",
     "iopub.status.busy": "2024-11-19T13:01:12.183895Z",
     "iopub.status.idle": "2024-11-19T13:01:12.189231Z",
     "shell.execute_reply": "2024-11-19T13:01:12.188172Z"
    },
    "papermill": {
     "duration": 0.018169,
     "end_time": "2024-11-19T13:01:12.191485",
     "exception": false,
     "start_time": "2024-11-19T13:01:12.173316",
     "status": "completed"
    },
    "tags": []
   },
   "outputs": [],
   "source": [
    "X= Standardized_data"
   ]
  },
  {
   "cell_type": "code",
   "execution_count": 17,
   "id": "c384dca5",
   "metadata": {
    "execution": {
     "iopub.execute_input": "2024-11-19T13:01:12.211909Z",
     "iopub.status.busy": "2024-11-19T13:01:12.211504Z",
     "iopub.status.idle": "2024-11-19T13:01:12.220013Z",
     "shell.execute_reply": "2024-11-19T13:01:12.218671Z"
    },
    "papermill": {
     "duration": 0.021915,
     "end_time": "2024-11-19T13:01:12.222387",
     "exception": false,
     "start_time": "2024-11-19T13:01:12.200472",
     "status": "completed"
    },
    "tags": []
   },
   "outputs": [
    {
     "data": {
      "text/plain": [
       "array([[ 0.63994726,  0.84832379,  0.14964075, ...,  0.20401277,\n",
       "         0.46849198,  1.4259954 ],\n",
       "       [-0.84488505, -1.12339636, -0.16054575, ..., -0.68442195,\n",
       "        -0.36506078, -0.19067191],\n",
       "       [ 1.23388019,  1.94372388, -0.26394125, ..., -1.10325546,\n",
       "         0.60439732, -0.10558415],\n",
       "       ...,\n",
       "       [ 0.3429808 ,  0.00330087,  0.14964075, ..., -0.73518964,\n",
       "        -0.68519336, -0.27575966],\n",
       "       [-0.84488505,  0.1597866 , -0.47073225, ..., -0.24020459,\n",
       "        -0.37110101,  1.17073215],\n",
       "       [-0.84488505, -0.8730192 ,  0.04624525, ..., -0.20212881,\n",
       "        -0.47378505, -0.87137393]])"
      ]
     },
     "execution_count": 17,
     "metadata": {},
     "output_type": "execute_result"
    }
   ],
   "source": [
    "X"
   ]
  },
  {
   "cell_type": "code",
   "execution_count": 18,
   "id": "a510fd05",
   "metadata": {
    "execution": {
     "iopub.execute_input": "2024-11-19T13:01:12.243026Z",
     "iopub.status.busy": "2024-11-19T13:01:12.242151Z",
     "iopub.status.idle": "2024-11-19T13:01:12.250856Z",
     "shell.execute_reply": "2024-11-19T13:01:12.249381Z"
    },
    "papermill": {
     "duration": 0.021077,
     "end_time": "2024-11-19T13:01:12.253238",
     "exception": false,
     "start_time": "2024-11-19T13:01:12.232161",
     "status": "completed"
    },
    "tags": []
   },
   "outputs": [
    {
     "data": {
      "text/plain": [
       "0      1\n",
       "1      0\n",
       "2      1\n",
       "3      0\n",
       "4      1\n",
       "      ..\n",
       "763    0\n",
       "764    0\n",
       "765    0\n",
       "766    1\n",
       "767    0\n",
       "Name: Outcome, Length: 768, dtype: int64"
      ]
     },
     "execution_count": 18,
     "metadata": {},
     "output_type": "execute_result"
    }
   ],
   "source": [
    "Y"
   ]
  },
  {
   "cell_type": "markdown",
   "id": "84ce466d",
   "metadata": {
    "papermill": {
     "duration": 0.00911,
     "end_time": "2024-11-19T13:01:12.271380",
     "exception": false,
     "start_time": "2024-11-19T13:01:12.262270",
     "status": "completed"
    },
    "tags": []
   },
   "source": [
    "## Training, Testing Split"
   ]
  },
  {
   "cell_type": "code",
   "execution_count": 19,
   "id": "4c65556f",
   "metadata": {
    "execution": {
     "iopub.execute_input": "2024-11-19T13:01:12.291951Z",
     "iopub.status.busy": "2024-11-19T13:01:12.291543Z",
     "iopub.status.idle": "2024-11-19T13:01:12.301408Z",
     "shell.execute_reply": "2024-11-19T13:01:12.300218Z"
    },
    "papermill": {
     "duration": 0.023591,
     "end_time": "2024-11-19T13:01:12.304304",
     "exception": false,
     "start_time": "2024-11-19T13:01:12.280713",
     "status": "completed"
    },
    "tags": []
   },
   "outputs": [],
   "source": [
    "X_train, X_test, Y_train, Y_test = train_test_split(X, Y, test_size = 0.2, stratify = Y, random_state = 6)"
   ]
  },
  {
   "cell_type": "code",
   "execution_count": 20,
   "id": "ac1b229b",
   "metadata": {
    "execution": {
     "iopub.execute_input": "2024-11-19T13:01:12.325612Z",
     "iopub.status.busy": "2024-11-19T13:01:12.323698Z",
     "iopub.status.idle": "2024-11-19T13:01:12.332471Z",
     "shell.execute_reply": "2024-11-19T13:01:12.331270Z"
    },
    "papermill": {
     "duration": 0.021488,
     "end_time": "2024-11-19T13:01:12.334776",
     "exception": false,
     "start_time": "2024-11-19T13:01:12.313288",
     "status": "completed"
    },
    "tags": []
   },
   "outputs": [
    {
     "data": {
      "text/plain": [
       "((768, 8), (614, 8), (154, 8))"
      ]
     },
     "execution_count": 20,
     "metadata": {},
     "output_type": "execute_result"
    }
   ],
   "source": [
    "X.shape, X_train.shape, X_test.shape"
   ]
  },
  {
   "cell_type": "markdown",
   "id": "e6a317e5",
   "metadata": {
    "papermill": {
     "duration": 0.008531,
     "end_time": "2024-11-19T13:01:12.353094",
     "exception": false,
     "start_time": "2024-11-19T13:01:12.344563",
     "status": "completed"
    },
    "tags": []
   },
   "source": [
    "## Training the Model"
   ]
  },
  {
   "cell_type": "code",
   "execution_count": 21,
   "id": "fca89979",
   "metadata": {
    "execution": {
     "iopub.execute_input": "2024-11-19T13:01:12.372419Z",
     "iopub.status.busy": "2024-11-19T13:01:12.371995Z",
     "iopub.status.idle": "2024-11-19T13:01:12.376896Z",
     "shell.execute_reply": "2024-11-19T13:01:12.375915Z"
    },
    "papermill": {
     "duration": 0.01728,
     "end_time": "2024-11-19T13:01:12.379180",
     "exception": false,
     "start_time": "2024-11-19T13:01:12.361900",
     "status": "completed"
    },
    "tags": []
   },
   "outputs": [],
   "source": [
    "classifier = svm.SVC(kernel = \"linear\")"
   ]
  },
  {
   "cell_type": "markdown",
   "id": "23d21194",
   "metadata": {
    "papermill": {
     "duration": 0.008408,
     "end_time": "2024-11-19T13:01:12.397717",
     "exception": false,
     "start_time": "2024-11-19T13:01:12.389309",
     "status": "completed"
    },
    "tags": []
   },
   "source": [
    "## Training the support vector machine classifier"
   ]
  },
  {
   "cell_type": "code",
   "execution_count": 22,
   "id": "4345d5fc",
   "metadata": {
    "execution": {
     "iopub.execute_input": "2024-11-19T13:01:12.417200Z",
     "iopub.status.busy": "2024-11-19T13:01:12.416744Z",
     "iopub.status.idle": "2024-11-19T13:01:12.439850Z",
     "shell.execute_reply": "2024-11-19T13:01:12.438737Z"
    },
    "papermill": {
     "duration": 0.035859,
     "end_time": "2024-11-19T13:01:12.442340",
     "exception": false,
     "start_time": "2024-11-19T13:01:12.406481",
     "status": "completed"
    },
    "tags": []
   },
   "outputs": [
    {
     "data": {
      "text/html": [
       "<style>#sk-container-id-2 {color: black;background-color: white;}#sk-container-id-2 pre{padding: 0;}#sk-container-id-2 div.sk-toggleable {background-color: white;}#sk-container-id-2 label.sk-toggleable__label {cursor: pointer;display: block;width: 100%;margin-bottom: 0;padding: 0.3em;box-sizing: border-box;text-align: center;}#sk-container-id-2 label.sk-toggleable__label-arrow:before {content: \"▸\";float: left;margin-right: 0.25em;color: #696969;}#sk-container-id-2 label.sk-toggleable__label-arrow:hover:before {color: black;}#sk-container-id-2 div.sk-estimator:hover label.sk-toggleable__label-arrow:before {color: black;}#sk-container-id-2 div.sk-toggleable__content {max-height: 0;max-width: 0;overflow: hidden;text-align: left;background-color: #f0f8ff;}#sk-container-id-2 div.sk-toggleable__content pre {margin: 0.2em;color: black;border-radius: 0.25em;background-color: #f0f8ff;}#sk-container-id-2 input.sk-toggleable__control:checked~div.sk-toggleable__content {max-height: 200px;max-width: 100%;overflow: auto;}#sk-container-id-2 input.sk-toggleable__control:checked~label.sk-toggleable__label-arrow:before {content: \"▾\";}#sk-container-id-2 div.sk-estimator input.sk-toggleable__control:checked~label.sk-toggleable__label {background-color: #d4ebff;}#sk-container-id-2 div.sk-label input.sk-toggleable__control:checked~label.sk-toggleable__label {background-color: #d4ebff;}#sk-container-id-2 input.sk-hidden--visually {border: 0;clip: rect(1px 1px 1px 1px);clip: rect(1px, 1px, 1px, 1px);height: 1px;margin: -1px;overflow: hidden;padding: 0;position: absolute;width: 1px;}#sk-container-id-2 div.sk-estimator {font-family: monospace;background-color: #f0f8ff;border: 1px dotted black;border-radius: 0.25em;box-sizing: border-box;margin-bottom: 0.5em;}#sk-container-id-2 div.sk-estimator:hover {background-color: #d4ebff;}#sk-container-id-2 div.sk-parallel-item::after {content: \"\";width: 100%;border-bottom: 1px solid gray;flex-grow: 1;}#sk-container-id-2 div.sk-label:hover label.sk-toggleable__label {background-color: #d4ebff;}#sk-container-id-2 div.sk-serial::before {content: \"\";position: absolute;border-left: 1px solid gray;box-sizing: border-box;top: 0;bottom: 0;left: 50%;z-index: 0;}#sk-container-id-2 div.sk-serial {display: flex;flex-direction: column;align-items: center;background-color: white;padding-right: 0.2em;padding-left: 0.2em;position: relative;}#sk-container-id-2 div.sk-item {position: relative;z-index: 1;}#sk-container-id-2 div.sk-parallel {display: flex;align-items: stretch;justify-content: center;background-color: white;position: relative;}#sk-container-id-2 div.sk-item::before, #sk-container-id-2 div.sk-parallel-item::before {content: \"\";position: absolute;border-left: 1px solid gray;box-sizing: border-box;top: 0;bottom: 0;left: 50%;z-index: -1;}#sk-container-id-2 div.sk-parallel-item {display: flex;flex-direction: column;z-index: 1;position: relative;background-color: white;}#sk-container-id-2 div.sk-parallel-item:first-child::after {align-self: flex-end;width: 50%;}#sk-container-id-2 div.sk-parallel-item:last-child::after {align-self: flex-start;width: 50%;}#sk-container-id-2 div.sk-parallel-item:only-child::after {width: 0;}#sk-container-id-2 div.sk-dashed-wrapped {border: 1px dashed gray;margin: 0 0.4em 0.5em 0.4em;box-sizing: border-box;padding-bottom: 0.4em;background-color: white;}#sk-container-id-2 div.sk-label label {font-family: monospace;font-weight: bold;display: inline-block;line-height: 1.2em;}#sk-container-id-2 div.sk-label-container {text-align: center;}#sk-container-id-2 div.sk-container {/* jupyter's `normalize.less` sets `[hidden] { display: none; }` but bootstrap.min.css set `[hidden] { display: none !important; }` so we also need the `!important` here to be able to override the default hidden behavior on the sphinx rendered scikit-learn.org. See: https://github.com/scikit-learn/scikit-learn/issues/21755 */display: inline-block !important;position: relative;}#sk-container-id-2 div.sk-text-repr-fallback {display: none;}</style><div id=\"sk-container-id-2\" class=\"sk-top-container\"><div class=\"sk-text-repr-fallback\"><pre>SVC(kernel=&#x27;linear&#x27;)</pre><b>In a Jupyter environment, please rerun this cell to show the HTML representation or trust the notebook. <br />On GitHub, the HTML representation is unable to render, please try loading this page with nbviewer.org.</b></div><div class=\"sk-container\" hidden><div class=\"sk-item\"><div class=\"sk-estimator sk-toggleable\"><input class=\"sk-toggleable__control sk-hidden--visually\" id=\"sk-estimator-id-2\" type=\"checkbox\" checked><label for=\"sk-estimator-id-2\" class=\"sk-toggleable__label sk-toggleable__label-arrow\">SVC</label><div class=\"sk-toggleable__content\"><pre>SVC(kernel=&#x27;linear&#x27;)</pre></div></div></div></div></div>"
      ],
      "text/plain": [
       "SVC(kernel='linear')"
      ]
     },
     "execution_count": 22,
     "metadata": {},
     "output_type": "execute_result"
    }
   ],
   "source": [
    "classifier.fit(X_train, Y_train)"
   ]
  },
  {
   "cell_type": "markdown",
   "id": "271e232e",
   "metadata": {
    "papermill": {
     "duration": 0.008826,
     "end_time": "2024-11-19T13:01:12.460521",
     "exception": false,
     "start_time": "2024-11-19T13:01:12.451695",
     "status": "completed"
    },
    "tags": []
   },
   "source": [
    "## Model Evaluation\n",
    "To find: \n",
    "1. Accuracy (training_data) - 0.7833876221498371\n",
    "2. Accuracy (test_data) - 0.7987012987012987"
   ]
  },
  {
   "cell_type": "code",
   "execution_count": 23,
   "id": "aa4fa1c6",
   "metadata": {
    "execution": {
     "iopub.execute_input": "2024-11-19T13:01:12.481244Z",
     "iopub.status.busy": "2024-11-19T13:01:12.480811Z",
     "iopub.status.idle": "2024-11-19T13:01:12.492589Z",
     "shell.execute_reply": "2024-11-19T13:01:12.491211Z"
    },
    "papermill": {
     "duration": 0.02502,
     "end_time": "2024-11-19T13:01:12.495402",
     "exception": false,
     "start_time": "2024-11-19T13:01:12.470382",
     "status": "completed"
    },
    "tags": []
   },
   "outputs": [],
   "source": [
    "X_train_prediction = classifier.predict(X_train)\n",
    "training_data_accuracy = accuracy_score(X_train_prediction, Y_train)"
   ]
  },
  {
   "cell_type": "code",
   "execution_count": 24,
   "id": "74625773",
   "metadata": {
    "execution": {
     "iopub.execute_input": "2024-11-19T13:01:12.515796Z",
     "iopub.status.busy": "2024-11-19T13:01:12.514862Z",
     "iopub.status.idle": "2024-11-19T13:01:12.522232Z",
     "shell.execute_reply": "2024-11-19T13:01:12.520968Z"
    },
    "papermill": {
     "duration": 0.01991,
     "end_time": "2024-11-19T13:01:12.524490",
     "exception": false,
     "start_time": "2024-11-19T13:01:12.504580",
     "status": "completed"
    },
    "tags": []
   },
   "outputs": [
    {
     "data": {
      "text/plain": [
       "0.7833876221498371"
      ]
     },
     "execution_count": 24,
     "metadata": {},
     "output_type": "execute_result"
    }
   ],
   "source": [
    "training_data_accuracy"
   ]
  },
  {
   "cell_type": "code",
   "execution_count": 25,
   "id": "9034a138",
   "metadata": {
    "execution": {
     "iopub.execute_input": "2024-11-19T13:01:12.544881Z",
     "iopub.status.busy": "2024-11-19T13:01:12.544497Z",
     "iopub.status.idle": "2024-11-19T13:01:12.551495Z",
     "shell.execute_reply": "2024-11-19T13:01:12.550364Z"
    },
    "papermill": {
     "duration": 0.019626,
     "end_time": "2024-11-19T13:01:12.553831",
     "exception": false,
     "start_time": "2024-11-19T13:01:12.534205",
     "status": "completed"
    },
    "tags": []
   },
   "outputs": [],
   "source": [
    "X_test_prediction = classifier.predict(X_test)\n",
    "test_data_accuracy = accuracy_score(X_test_prediction, Y_test)"
   ]
  },
  {
   "cell_type": "code",
   "execution_count": 26,
   "id": "6fcb21ec",
   "metadata": {
    "execution": {
     "iopub.execute_input": "2024-11-19T13:01:12.574325Z",
     "iopub.status.busy": "2024-11-19T13:01:12.573927Z",
     "iopub.status.idle": "2024-11-19T13:01:12.580659Z",
     "shell.execute_reply": "2024-11-19T13:01:12.579632Z"
    },
    "papermill": {
     "duration": 0.019273,
     "end_time": "2024-11-19T13:01:12.582870",
     "exception": false,
     "start_time": "2024-11-19T13:01:12.563597",
     "status": "completed"
    },
    "tags": []
   },
   "outputs": [
    {
     "data": {
      "text/plain": [
       "0.7987012987012987"
      ]
     },
     "execution_count": 26,
     "metadata": {},
     "output_type": "execute_result"
    }
   ],
   "source": [
    "test_data_accuracy"
   ]
  },
  {
   "cell_type": "markdown",
   "id": "50aceea5",
   "metadata": {
    "papermill": {
     "duration": 0.008989,
     "end_time": "2024-11-19T13:01:12.601202",
     "exception": false,
     "start_time": "2024-11-19T13:01:12.592213",
     "status": "completed"
    },
    "tags": []
   },
   "source": [
    "## Making a predictive System"
   ]
  },
  {
   "cell_type": "code",
   "execution_count": 27,
   "id": "8de3ac94",
   "metadata": {
    "execution": {
     "iopub.execute_input": "2024-11-19T13:01:12.621840Z",
     "iopub.status.busy": "2024-11-19T13:01:12.621459Z",
     "iopub.status.idle": "2024-11-19T13:01:12.626575Z",
     "shell.execute_reply": "2024-11-19T13:01:12.625373Z"
    },
    "papermill": {
     "duration": 0.018095,
     "end_time": "2024-11-19T13:01:12.628771",
     "exception": false,
     "start_time": "2024-11-19T13:01:12.610676",
     "status": "completed"
    },
    "tags": []
   },
   "outputs": [],
   "source": [
    "input_data= (8, 183, 64, 0, 0, 23.3, 0.672, 32)\n"
   ]
  },
  {
   "cell_type": "code",
   "execution_count": 28,
   "id": "ae992344",
   "metadata": {
    "execution": {
     "iopub.execute_input": "2024-11-19T13:01:12.648918Z",
     "iopub.status.busy": "2024-11-19T13:01:12.648501Z",
     "iopub.status.idle": "2024-11-19T13:01:12.653547Z",
     "shell.execute_reply": "2024-11-19T13:01:12.652404Z"
    },
    "papermill": {
     "duration": 0.017638,
     "end_time": "2024-11-19T13:01:12.655809",
     "exception": false,
     "start_time": "2024-11-19T13:01:12.638171",
     "status": "completed"
    },
    "tags": []
   },
   "outputs": [],
   "source": [
    "input_np = np.asarray(input_data).reshape(1, -1)"
   ]
  },
  {
   "cell_type": "code",
   "execution_count": 29,
   "id": "7929843a",
   "metadata": {
    "execution": {
     "iopub.execute_input": "2024-11-19T13:01:12.676125Z",
     "iopub.status.busy": "2024-11-19T13:01:12.675708Z",
     "iopub.status.idle": "2024-11-19T13:01:12.685691Z",
     "shell.execute_reply": "2024-11-19T13:01:12.684542Z"
    },
    "papermill": {
     "duration": 0.02277,
     "end_time": "2024-11-19T13:01:12.687976",
     "exception": false,
     "start_time": "2024-11-19T13:01:12.665206",
     "status": "completed"
    },
    "tags": []
   },
   "outputs": [
    {
     "name": "stderr",
     "output_type": "stream",
     "text": [
      "/opt/conda/lib/python3.10/site-packages/sklearn/base.py:439: UserWarning: X does not have valid feature names, but StandardScaler was fitted with feature names\n",
      "  warnings.warn(\n"
     ]
    },
    {
     "data": {
      "text/plain": [
       "array([[ 1.23388019,  1.94372388, -0.26394125, -1.28821221, -0.69289057,\n",
       "        -1.10325546,  0.60439732, -0.10558415]])"
      ]
     },
     "execution_count": 29,
     "metadata": {},
     "output_type": "execute_result"
    }
   ],
   "source": [
    "std_data = scaler.transform(input_np)\n",
    "std_data"
   ]
  },
  {
   "cell_type": "code",
   "execution_count": 30,
   "id": "2f6be540",
   "metadata": {
    "execution": {
     "iopub.execute_input": "2024-11-19T13:01:12.709007Z",
     "iopub.status.busy": "2024-11-19T13:01:12.708617Z",
     "iopub.status.idle": "2024-11-19T13:01:12.715532Z",
     "shell.execute_reply": "2024-11-19T13:01:12.714249Z"
    },
    "papermill": {
     "duration": 0.020295,
     "end_time": "2024-11-19T13:01:12.717784",
     "exception": false,
     "start_time": "2024-11-19T13:01:12.697489",
     "status": "completed"
    },
    "tags": []
   },
   "outputs": [
    {
     "name": "stdout",
     "output_type": "stream",
     "text": [
      "Person is diabetic\n"
     ]
    }
   ],
   "source": [
    "prediction = classifier.predict(std_data)\n",
    "\n",
    "if prediction[0] ==0:\n",
    "    print(\"Person is not diabetic\")\n",
    "else:\n",
    "    print(\"Person is diabetic\")"
   ]
  }
 ],
 "metadata": {
  "kaggle": {
   "accelerator": "none",
   "dataSources": [
    {
     "datasetId": 2527538,
     "sourceId": 4289678,
     "sourceType": "datasetVersion"
    }
   ],
   "dockerImageVersionId": 30786,
   "isGpuEnabled": false,
   "isInternetEnabled": true,
   "language": "python",
   "sourceType": "notebook"
  },
  "kernelspec": {
   "display_name": "Python 3",
   "language": "python",
   "name": "python3"
  },
  "language_info": {
   "codemirror_mode": {
    "name": "ipython",
    "version": 3
   },
   "file_extension": ".py",
   "mimetype": "text/x-python",
   "name": "python",
   "nbconvert_exporter": "python",
   "pygments_lexer": "ipython3",
   "version": "3.10.14"
  },
  "papermill": {
   "default_parameters": {},
   "duration": 7.138174,
   "end_time": "2024-11-19T13:01:13.348654",
   "environment_variables": {},
   "exception": null,
   "input_path": "__notebook__.ipynb",
   "output_path": "__notebook__.ipynb",
   "parameters": {},
   "start_time": "2024-11-19T13:01:06.210480",
   "version": "2.6.0"
  }
 },
 "nbformat": 4,
 "nbformat_minor": 5
}
